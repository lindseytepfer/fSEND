{
 "cells": [
  {
   "cell_type": "markdown",
   "id": "da61d510",
   "metadata": {},
   "source": [
    "# fSEND fMRI Run Sequences\n",
    "\n",
    "In this notebook, I generate .JSON files that will determine how the experimental task will prsent the stimuli during the scan. The paradigm includes 32 videos from the <a href=\"https://arxiv.org/abs/1912.05008\">Standford Emotional Narratives Dataset</a>, as well as two short, additional videos which involve internal narratives from the main characters of each video. \n",
    "\n",
    "The goal of this code is to shuffle all 5 runs such that their overall order varies per participant, but the internal sequence of the individual orders are preserved; that is, the 8 videos inside of a given run should always be shown in the same sequence each time. \n",
    "\n",
    "Additionally, the internal narrative films should also be shuffled, but not intermixed with the SEND videos; participants with even subject ID's will see the narrative films first, and the SEND videos second. "
   ]
  },
  {
   "cell_type": "code",
   "execution_count": 1,
   "id": "350a286e",
   "metadata": {},
   "outputs": [],
   "source": [
    "import random\n",
    "import pandas as pd\n",
    "import json"
   ]
  },
  {
   "cell_type": "code",
   "execution_count": 2,
   "id": "b87c588c",
   "metadata": {},
   "outputs": [],
   "source": [
    "out_path = '/Users/f004p74/Documents/dartmouth/projects/fSEND/stimuli/stim-shuffled/'"
   ]
  },
  {
   "cell_type": "code",
   "execution_count": 3,
   "id": "2a96c1d4",
   "metadata": {},
   "outputs": [],
   "source": [
    "# Four SEND runs, 8 videos per run [do not shuffle]\n",
    "send_run1 = ['ID120_vid4','ID116_vid2','ID147_vid4','ID112_vid1','ID180_vid6','ID156_vid3','ID130_vid6','ID164_vid3']\n",
    "send_run2 = ['ID131_vid2','ID118_vid1','ID128_vid5','ID117_vid4','ID170_vid7','ID137_vid6','ID174_vid2','ID181_vid6']\n",
    "send_run3 = ['ID145_vid4','ID153_vid3','ID165_vid7','ID113_vid4','ID179_vid3','ID169_vid2','ID141_vid1','ID171_vid5']\n",
    "send_run4 = ['ID111_vid3','ID124_vid6','ID161_vid1','ID168_vid1','ID121_vid6','ID123_vid3','ID127_vid3','ID129_vid6']\n",
    "\n",
    "send_runs = [send_run1,send_run2,send_run3,send_run4]\n",
    "\n",
    "# One NarratedThought run, shuffled order\n",
    "narr_v1 = ['physical_v1','stutter_v1']\n",
    "narr_v2= ['physical_v2','stutter_v2']\n",
    "\n",
    "for i in range(1,5):\n",
    "    random.seed(i)\n",
    "    random.shuffle(send_runs)\n",
    "    random.shuffle(narr_v1)\n",
    "    \n",
    "    run_sequence = []\n",
    "    \n",
    "    if i % 2 == 0: #Even-numbered subjects among the first 25 will watch V1 NarratedThought videos first, SEND second.\n",
    "        run_sequence.append(narr_v1)\n",
    "        for sub_list in send_runs:\n",
    "            run_sequence.append(sub_list)\n",
    "    else:\n",
    "        for sub_list in send_runs:\n",
    "            run_sequence.append(sub_list)\n",
    "        run_sequence.append(narr_v1)\n",
    "        \n",
    "    sequence_dict = {}\n",
    "\n",
    "    for ix, sub_list in enumerate(run_sequence):\n",
    "        sequence_dict[str(ix+1)] = {}\n",
    "        for num,video in enumerate(sub_list):\n",
    "            sequence_dict[str(ix+1)][sub_list[num]] = {}\n",
    "            \n",
    "    with open(out_path+'sub_00'+str(i)+'.json', 'w') as fp:\n",
    "        json.dump(sequence_dict, fp)\n",
    "        "
   ]
  },
  {
   "cell_type": "code",
   "execution_count": null,
   "id": "3a3ec20d",
   "metadata": {},
   "outputs": [],
   "source": []
  }
 ],
 "metadata": {
  "kernelspec": {
   "display_name": "Python 3 (ipykernel)",
   "language": "python",
   "name": "python3"
  },
  "language_info": {
   "codemirror_mode": {
    "name": "ipython",
    "version": 3
   },
   "file_extension": ".py",
   "mimetype": "text/x-python",
   "name": "python",
   "nbconvert_exporter": "python",
   "pygments_lexer": "ipython3",
   "version": "3.9.13"
  }
 },
 "nbformat": 4,
 "nbformat_minor": 5
}
