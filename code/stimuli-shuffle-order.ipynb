{
 "cells": [
  {
   "cell_type": "markdown",
   "id": "da61d510",
   "metadata": {},
   "source": [
    "# fSEND fMRI Run Sequences\n",
    "\n",
    "In this notebook, I generate .JSON files that will determine how the experimental task will prsent the stimuli during the scan. The paradigm includes 32 videos from the <a href=\"https://arxiv.org/abs/1912.05008\">Standford Emotional Narratives Dataset</a>, as well as two short, additional videos which involve internal narratives from the main characters of each video. \n",
    "\n",
    "The goal of this code is to shuffle all 10 runs such that their overall order varies per participant, and the videos within the runs are shuffled, such that while a run will always show the same 4 individuals, the order will vary.\n",
    "\n",
    "Additionally, the internal narrative films should also be shuffled, but not intermixed with the SEND videos; participants with even subject IDs will see the narrative films first, and the SEND videos second. "
   ]
  },
  {
   "cell_type": "code",
   "execution_count": 29,
   "id": "350a286e",
   "metadata": {},
   "outputs": [],
   "source": [
    "import random\n",
    "import pandas as pd\n",
    "import json\n",
    "from moviepy.editor import *"
   ]
  },
  {
   "cell_type": "code",
   "execution_count": 20,
   "id": "b87c588c",
   "metadata": {},
   "outputs": [],
   "source": [
    "out_path = '/Users/f004p74/Documents/dartmouth/projects/fSEND/stimuli/stim-shuffled/'"
   ]
  },
  {
   "cell_type": "code",
   "execution_count": 43,
   "id": "3a3ec20d",
   "metadata": {},
   "outputs": [],
   "source": [
    "# Eight SEND runs, 4 videos per run, shuffled within run\n",
    "send_run1 = [\"ID120_vid4\",\"ID116_vid2\",\"ID131_vid2\",\"ID117_vid4\"]\n",
    "send_run2 = [\"ID127_vid3\",\"ID118_vid1\",\"ID147_vid4\",\"ID112_vid1\"]\n",
    "send_run3 = [\"ID145_vid4\",\"ID153_vid3\",\"ID165_vid7\",\"ID113_vid4\"]\n",
    "send_run4 = [\"ID111_vid3\",\"ID124_vid6\",\"ID161_vid1\",\"ID129_vid6\"]\n",
    "send_run5 = [\"ID180_vid6\",\"ID156_vid3\",\"ID130_vid6\",\"ID174_vid2\"]\n",
    "send_run6 = [\"ID170_vid7\",\"ID137_vid6\",\"ID164_vid3\",\"ID181_vid6\"]\n",
    "send_run7 = [\"ID179_vid3\",\"ID169_vid2\",\"ID141_vid1\",\"ID171_vid5\"]\n",
    "send_run8 = [\"ID121_vid6\",\"ID123_vid3\",\"ID128_vid5\",\"ID168_vid1\"]\n",
    "\n",
    "send_runs = [send_run1,send_run2,send_run3,send_run4,\n",
    "            send_run5,send_run6,send_run7,send_run8]\n",
    "\n",
    "# One NarratedThought run, shuffled order\n",
    "narr_v1 = [['physical-v1'],['stutter-v1']]\n",
    "\n",
    "for i in range(1,5):\n",
    "    random.seed(i)\n",
    "    \n",
    "    for k in send_runs:\n",
    "        random.shuffle(k)\n",
    "        \n",
    "    random.shuffle(send_runs)\n",
    "    random.shuffle(narr_v1)\n",
    "    \n",
    "    run_sequence = []\n",
    "    \n",
    "    if i % 2 == 0: #Even-numbered subjects among the first 25 will watch V1 NarratedThought videos first, SEND second.\n",
    "        for narr_list in narr_v1:\n",
    "            run_sequence.append(narr_list)\n",
    "        for sub_list in send_runs:\n",
    "            run_sequence.append(sub_list)\n",
    "    else:\n",
    "        for sub_list in send_runs:\n",
    "            run_sequence.append(sub_list)\n",
    "        for narr_list in narr_v1:\n",
    "            run_sequence.append(narr_list)\n",
    "        \n",
    "    sequence_dict = {}\n",
    "\n",
    "    for ix, sub_list in enumerate(run_sequence):\n",
    "        sequence_dict[str(ix+1)] = {}\n",
    "        for num,video in enumerate(sub_list):\n",
    "            sequence_dict[str(ix+1)][sub_list[num]] = {}\n",
    "    \n",
    "    \n",
    "    for v in sequence_dict.keys():\n",
    "        for thing in sequence_dict[v]:\n",
    "            try:\n",
    "                clip = VideoFileClip(\"/Users/f004p74/Documents/dartmouth/projects/fSEND/stimuli/SEND/\"+str(thing)+\".mp4\")\n",
    "                duration = clip.duration * 1000\n",
    "            except:\n",
    "                clip = VideoFileClip(\"/Users/f004p74/Documents/dartmouth/projects/fSEND/stimuli/narrated-thought/\"+str(thing)+\".mp4\")\n",
    "                duration = clip.duration * 1000\n",
    "\n",
    "            sequence_dict[v][thing] = int(duration)\n",
    "    \n",
    "            \n",
    "    with open(out_path+'sub_00'+str(i)+'.json', 'w') as fp:\n",
    "        json.dump(sequence_dict, fp)"
   ]
  },
  {
   "cell_type": "code",
   "execution_count": null,
   "id": "b71550f3",
   "metadata": {},
   "outputs": [],
   "source": []
  },
  {
   "cell_type": "code",
   "execution_count": null,
   "id": "3f59b637",
   "metadata": {},
   "outputs": [],
   "source": []
  },
  {
   "cell_type": "code",
   "execution_count": null,
   "id": "99d7ca07",
   "metadata": {},
   "outputs": [],
   "source": []
  }
 ],
 "metadata": {
  "kernelspec": {
   "display_name": "Python 3 (ipykernel)",
   "language": "python",
   "name": "python3"
  },
  "language_info": {
   "codemirror_mode": {
    "name": "ipython",
    "version": 3
   },
   "file_extension": ".py",
   "mimetype": "text/x-python",
   "name": "python",
   "nbconvert_exporter": "python",
   "pygments_lexer": "ipython3",
   "version": "3.9.13"
  }
 },
 "nbformat": 4,
 "nbformat_minor": 5
}
