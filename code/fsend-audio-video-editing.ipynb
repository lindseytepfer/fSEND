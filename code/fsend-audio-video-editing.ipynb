{
 "cells": [
  {
   "cell_type": "code",
   "execution_count": 2,
   "id": "c15727a5",
   "metadata": {},
   "outputs": [],
   "source": [
    "import moviepy.editor as me \n",
    "from moviepy.editor import *\n",
    "import pydub\n",
    "from pydub import AudioSegment\n",
    "import os\n",
    "import numpy as np"
   ]
  },
  {
   "cell_type": "markdown",
   "id": "71f53d35",
   "metadata": {},
   "source": [
    "### Separating out audio files from video for later selective muting"
   ]
  },
  {
   "cell_type": "code",
   "execution_count": 2,
   "id": "dbbd8ee3",
   "metadata": {},
   "outputs": [],
   "source": [
    "stimuli_path = \"/Users/f004p74/Documents/dartmouth/projects/fSEND/stimuli/narrated-thought/\"\n",
    "dirlist = os.listdir(stimuli_path)\n",
    "vidlist = [x for x in dirlist if ('.mp4') in x]"
   ]
  },
  {
   "cell_type": "code",
   "execution_count": 3,
   "id": "bc0b51dd",
   "metadata": {},
   "outputs": [],
   "source": [
    "for a,b in enumerate(vidlist):\n",
    "    b = b.split(\".\")\n",
    "    vidlist[a] = b[0]"
   ]
  },
  {
   "cell_type": "code",
   "execution_count": 8,
   "id": "b26f9cf9",
   "metadata": {},
   "outputs": [
    {
     "name": "stdout",
     "output_type": "stream",
     "text": [
      "MoviePy - Writing audio in /Users/f004p74/Documents/dartmouth/projects/fSEND/stimuli/narrated-thought/stutter.wav\n"
     ]
    },
    {
     "name": "stderr",
     "output_type": "stream",
     "text": [
      "                                                                                \r"
     ]
    },
    {
     "name": "stdout",
     "output_type": "stream",
     "text": [
      "MoviePy - Done.\n",
      "MoviePy - Writing audio in /Users/f004p74/Documents/dartmouth/projects/fSEND/stimuli/narrated-thought/physical.wav\n"
     ]
    },
    {
     "name": "stderr",
     "output_type": "stream",
     "text": [
      "                                                                                "
     ]
    },
    {
     "name": "stdout",
     "output_type": "stream",
     "text": [
      "MoviePy - Done.\n"
     ]
    },
    {
     "name": "stderr",
     "output_type": "stream",
     "text": [
      "\r"
     ]
    }
   ],
   "source": [
    "for i in vidlist:\n",
    "    video = me.VideoFileClip(stimuli_path+str(i)+\".mp4\")\n",
    "    video.audio.write_audiofile(stimuli_path+str(i)+\".wav\")"
   ]
  },
  {
   "cell_type": "markdown",
   "id": "23367b72",
   "metadata": {},
   "source": [
    "### Removing slices of audio from the Narrated Thought videos\n",
    "After isolating the audio from the videos, I create a function below which allows me to type in the minute and second that a particular scene begins and ends that I want to manipulate using a voice removing model. "
   ]
  },
  {
   "cell_type": "code",
   "execution_count": 25,
   "id": "abb939e5",
   "metadata": {},
   "outputs": [],
   "source": [
    "stimuli_path = \"/Users/f004p74/Documents/dartmouth/projects/fSEND/stimuli/narrated-thought/\"\n",
    "dirlist = os.listdir(stimuli_path)\n",
    "audiolist = [x for x in dirlist if ('physical.mp3') in x]\n",
    "audio = AudioSegment.from_mp3(stimuli_path+audiolist[0])"
   ]
  },
  {
   "cell_type": "code",
   "execution_count": 39,
   "id": "239af469",
   "metadata": {},
   "outputs": [],
   "source": [
    "def clip_audio (start_min, start_sec, stop_min, stop_sec):\n",
    "    start_minute_conv = start_min * 60000\n",
    "    start_second_conv = start_sec * 1000\n",
    "    stop_minute_conv = stop_min * 60000\n",
    "    stop_second_conv = stop_sec * 1000\n",
    "    \n",
    "    start = start_minute_conv + start_second_conv\n",
    "    stop = stop_minute_conv + stop_second_conv\n",
    "    \n",
    "    segment = audio[start:stop]\n",
    "    segment.export(stimuli_path+\"segments/physical-v2/physical_\"+str(start)+\"_\"+str(stop)+\".mp3\", format=\"mp3\")\n",
    "    \n",
    "    return(\"start:\",start,\"stop:\",stop)"
   ]
  },
  {
   "cell_type": "code",
   "execution_count": 49,
   "id": "d456c13e",
   "metadata": {},
   "outputs": [
    {
     "data": {
      "text/plain": [
       "('start:', 303000, 'stop:', 314000)"
      ]
     },
     "execution_count": 49,
     "metadata": {},
     "output_type": "execute_result"
    }
   ],
   "source": [
    "clip_audio(5,3,5,14)"
   ]
  },
  {
   "cell_type": "markdown",
   "id": "16d8df6a",
   "metadata": {},
   "source": [
    "## Adjusting 'quiet' clips\n",
    "Two clips in particular were almost too quiet to hear. Here, I import the videos, multiply the audio by 3, and then (outside of this notebook: vocalremover.org by Melnik Dmitry) clean the file by boosting the voice signal and reducing the background noise. "
   ]
  },
  {
   "cell_type": "code",
   "execution_count": 5,
   "id": "bee612e1",
   "metadata": {},
   "outputs": [],
   "source": [
    "from moviepy.audio.fx.volumex import volumex"
   ]
  },
  {
   "cell_type": "code",
   "execution_count": 30,
   "id": "f2922332",
   "metadata": {},
   "outputs": [],
   "source": [
    "def boost_volume (video_path, name):\n",
    "    clip = me.VideoFileClip(video_path)\n",
    "    newclip = volumex(clip, 3.0)\n",
    "    newclip.write_videofile(str(name)+\"_vid_3x_audio.mp4\",\n",
    "                            codec='libx264', \n",
    "                            audio_codec='aac', \n",
    "                            temp_audiofile='temp-audio.m4a', \n",
    "                            remove_temp=True)\n",
    "    \n",
    "def replace_audio (video_path, audio_path, name):\n",
    "    clip = me.VideoFileClip(video_path)\n",
    "    audio = AudioFileClip(audio_path)\n",
    "    \n",
    "    final_clip = clip.set_audio(audio)\n",
    "    final_clip.write_videofile(str(name)+\".mp4\",\n",
    "                        codec='libx264', \n",
    "                        audio_codec='aac', \n",
    "                        temp_audiofile='temp-audio.m4a', \n",
    "                        remove_temp=True)\n",
    "    "
   ]
  }
 ],
 "metadata": {
  "kernelspec": {
   "display_name": "Python 3 (ipykernel)",
   "language": "python",
   "name": "python3"
  },
  "language_info": {
   "codemirror_mode": {
    "name": "ipython",
    "version": 3
   },
   "file_extension": ".py",
   "mimetype": "text/x-python",
   "name": "python",
   "nbconvert_exporter": "python",
   "pygments_lexer": "ipython3",
   "version": "3.9.13"
  }
 },
 "nbformat": 4,
 "nbformat_minor": 5
}
